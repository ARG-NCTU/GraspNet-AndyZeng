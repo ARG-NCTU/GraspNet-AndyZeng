{
 "cells": [
  {
   "cell_type": "code",
   "execution_count": 30,
   "metadata": {},
   "outputs": [],
   "source": [
    "import cv2 \n",
    "import os"
   ]
  },
  {
   "cell_type": "markdown",
   "metadata": {},
   "source": [
    "# Label"
   ]
  },
  {
   "cell_type": "code",
   "execution_count": 28,
   "metadata": {},
   "outputs": [],
   "source": [
    "path = \"/home/alex/Desktop/label_origin\"\n",
    "allFileList = os.listdir(path)"
   ]
  },
  {
   "cell_type": "code",
   "execution_count": 29,
   "metadata": {},
   "outputs": [],
   "source": [
    "for file in allFileList:\n",
    "    new_file = \"/home/alex/Desktop/label/\" + file\n",
    "    file = path + \"/\" + file\n",
    "    \n",
    "    img = cv2.imread(file, cv2.IMREAD_GRAYSCALE)\n",
    "\n",
    "    cv2.imwrite(new_file, img)\n"
   ]
  },
  {
   "cell_type": "markdown",
   "metadata": {},
   "source": [
    "# RGB"
   ]
  },
  {
   "cell_type": "code",
   "execution_count": 20,
   "metadata": {},
   "outputs": [],
   "source": [
    "path = \"/home/alex/Desktop/color-input_origin\"\n",
    "allFileList = os.listdir(path)"
   ]
  },
  {
   "cell_type": "code",
   "execution_count": 21,
   "metadata": {},
   "outputs": [],
   "source": [
    "for file in allFileList:\n",
    "    new_file = \"/home/alex/Desktop/color-input/\" + file\n",
    "    file = path + \"/\" + file\n",
    "    \n",
    "    img = cv2.imread(file, cv2.IMREAD_COLOR)\n",
    "\n",
    "    cv2.imwrite(new_file, img)\n"
   ]
  },
  {
   "cell_type": "markdown",
   "metadata": {},
   "source": [
    "# Depth"
   ]
  },
  {
   "cell_type": "code",
   "execution_count": 31,
   "metadata": {},
   "outputs": [],
   "source": [
    "path = \"/home/alex/Desktop/depth-input_origin\"\n",
    "allFileList = os.listdir(path)"
   ]
  },
  {
   "cell_type": "code",
   "execution_count": 32,
   "metadata": {},
   "outputs": [],
   "source": [
    "for file in allFileList:\n",
    "    new_file = \"/home/alex/Desktop/depth-input/\" + file\n",
    "    file = path + \"/\" + file\n",
    "    \n",
    "    img = cv2.imread(file, cv2.IMREAD_GRAYSCALE)\n",
    "\n",
    "    cv2.imwrite(new_file, img)"
   ]
  },
  {
   "cell_type": "code",
   "execution_count": null,
   "metadata": {},
   "outputs": [],
   "source": []
  }
 ],
 "metadata": {
  "kernelspec": {
   "display_name": "Python 3",
   "language": "python",
   "name": "python3"
  },
  "language_info": {
   "codemirror_mode": {
    "name": "ipython",
    "version": 3
   },
   "file_extension": ".py",
   "mimetype": "text/x-python",
   "name": "python",
   "nbconvert_exporter": "python",
   "pygments_lexer": "ipython3",
   "version": "3.6.12"
  }
 },
 "nbformat": 4,
 "nbformat_minor": 4
}
